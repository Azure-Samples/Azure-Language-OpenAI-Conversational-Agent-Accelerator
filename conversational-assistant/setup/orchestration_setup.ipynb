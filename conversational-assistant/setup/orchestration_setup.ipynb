{
 "cells": [
  {
   "cell_type": "markdown",
   "metadata": {},
   "source": [
    "# Orchestration Project Setup\n",
    "\n",
    "This notebook outlines the process of setting up Orchestration dependencies for the Conversational Assistant demo.\n",
    "\n",
    "It goes through the following steps:\n",
    "- Importing an Orchestration project based on example data.\n",
    "- Training an Orchestration model.\n",
    "- Deploying a trained Orchestration model for production use.\n",
    "\n",
    "**Note**: these steps can also be achieved using Azure AI [Language Studio](https://language.cognitive.azure.com/).\n",
    "\n",
    "The example data is in the context of a fictional outdoor company: Contoso Outdoors. The project will be linked to existing CLU and CQA projects in this context.\n",
    "\n",
    "To use Orchestration in this project, the following lines in your `.env` file should be updated by the end of this notebook:\n",
    "```\n",
    "ORCHESTRATION_PROJECT_NAME=\"<orchestration-project-name>\"\n",
    "ORCHESTRATION_DEPLOYMENT_NAME=\"<orchestration-deployment-name>\"\n",
    "```\n",
    "\n",
    "### Prerequisites:\n",
    "Orchestration requires an [Azure AI Language resource](https://learn.microsoft.com/en-us/azure/ai-services/language-service/). [Create a Language Resource](https://portal.azure.com/#create/Microsoft.CognitiveServicesTextAnalytics) first, if necessary.\n",
    "\n",
    "From your Language resource, obtain its `endpoint` and `api-key`. Further, you should have an existing CLU and CQA project/deployment in this Language resource. This can be achieved by going through `clu_setup.ipynb` and `cqa_setup.ipynb`.\n",
    "\n",
    "Update your `.env` file:\n",
    "```\n",
    "LANGUAGE_ENDPOINT=\"<language-endpoint>\"\n",
    "LANGUAGE_API_KEY=\"<language-api-key>\"\n",
    "\n",
    "CLU_PROJECT_NAME=\"<clu-project-name>\"\n",
    "CLU_DEPLOYMENT_NAME=\"<clu-deployment-name>\"\n",
    "\n",
    "CQA_PROJECT_NAME=\"<cqa-project-name>\"\n",
    "CQA_DEPLOYMENT_NAME=\"<cqa-deployment-name>\"\n",
    "```"
   ]
  },
  {
   "cell_type": "code",
   "execution_count": null,
   "metadata": {},
   "outputs": [],
   "source": [
    "# Copyright (c) Microsoft Corporation.\n",
    "# Licensed under the MIT License.\n",
    "import sys\n",
    "sys.path.append(\"..\")\n",
    "import os\n",
    "from dotenv import load_dotenv\n",
    "from clu_client import CluClient as OrchestrationClient\n",
    "\n",
    "load_dotenv()\n",
    "\n",
    "LANGUAGE_ENDPOINT = os.environ.get(\"LANGUAGE_ENDPOINT\")\n",
    "LANGUAGE_API_KEY = os.environ.get(\"LANGUAGE_API_KEY\")\n",
    "\n",
    "# Update with desired names:\n",
    "ORCHESTRATION_PROJECT_NAME = \"contoso-outdoors-orch\"\n",
    "ORCHESTRATION_MODEL_NAME = \"contoso-outdoors-orch-model-1\"\n",
    "ORCHESTRATION_DEPLOYMENT_NAME = \"contoso-outdoors-orch-dep-1\"\n",
    "\n",
    "# Linked CLU/CQA info:\n",
    "CLU_PROJECT_NAME = os.environ.get(\"CLU_PROJECT_NAME\")\n",
    "CLU_DEPLOYMENT_NAME = os.environ.get(\"CLU_DEPLOYMENT_NAME\")\n",
    "CQA_PROJECT_NAME = os.environ.get(\"CQA_PROJECT_NAME\")\n",
    "\n",
    "ORCHESTRATION_CLIENT = OrchestrationClient(\n",
    "    endpoint=LANGUAGE_ENDPOINT,\n",
    "    api_key=LANGUAGE_API_KEY,\n",
    "    orchestration=True\n",
    ")\n",
    "\n",
    "print(f\"Language endpoint: {LANGUAGE_ENDPOINT}\")\n"
   ]
  },
  {
   "cell_type": "markdown",
   "metadata": {},
   "source": [
    "Import Project Data:"
   ]
  },
  {
   "cell_type": "code",
   "execution_count": null,
   "metadata": {},
   "outputs": [],
   "source": [
    "# Copyright (c) Microsoft Corporation.\n",
    "# Licensed under the MIT License.\n",
    "import json\n",
    "\n",
    "import_file = \"data/orchestration/import.json\"\n",
    "with open(import_file, 'r') as fp:\n",
    "    import_json = json.load(fp)\n",
    "\n",
    "import_json[\"metadata\"][\"projectName\"] = ORCHESTRATION_PROJECT_NAME\n",
    "print(f\"Project name: {ORCHESTRATION_PROJECT_NAME}\")\n",
    "\n",
    "# Link CLU/CQA projects:\n",
    "clu_intent = import_json[\"assets\"][\"intents\"][0]\n",
    "cqa_intent = import_json[\"assets\"][\"intents\"][1]\n",
    "clu_intent[\"orchestration\"][\"conversationOrchestration\"][\"projectName\"] = CLU_PROJECT_NAME\n",
    "clu_intent[\"orchestration\"][\"conversationOrchestration\"][\"deploymentName\"] = CLU_DEPLOYMENT_NAME\n",
    "cqa_intent[\"orchestration\"][\"questionAnsweringOrchestration\"][\"projectName\"] = CQA_PROJECT_NAME\n",
    "\n",
    "import_result = ORCHESTRATION_CLIENT.import_project(\n",
    "    import_json=import_json,\n",
    "    project_name=ORCHESTRATION_PROJECT_NAME\n",
    ")\n",
    "\n",
    "print(f\"Import project {'succeeded' if import_result else 'failed'}\")\n"
   ]
  },
  {
   "cell_type": "markdown",
   "metadata": {},
   "source": [
    "List Projects:"
   ]
  },
  {
   "cell_type": "code",
   "execution_count": null,
   "metadata": {},
   "outputs": [],
   "source": [
    "# Copyright (c) Microsoft Corporation.\n",
    "# Licensed under the MIT License.\n",
    "print(\"Orchestration projects:\")\n",
    "projects = ORCHESTRATION_CLIENT.list_projects()\n",
    "print(projects)\n"
   ]
  },
  {
   "cell_type": "markdown",
   "metadata": {},
   "source": [
    "Train Model:"
   ]
  },
  {
   "cell_type": "code",
   "execution_count": null,
   "metadata": {},
   "outputs": [],
   "source": [
    "# Copyright (c) Microsoft Corporation.\n",
    "# Licensed under the MIT License.\n",
    "print(f\"Model name: {ORCHESTRATION_MODEL_NAME}\")\n",
    "train_job_url = ORCHESTRATION_CLIENT.train(\n",
    "    project_name=ORCHESTRATION_PROJECT_NAME,\n",
    "    model_name=ORCHESTRATION_MODEL_NAME\n",
    ")\n",
    "print(\"Model training in progress...\")\n"
   ]
  },
  {
   "cell_type": "markdown",
   "metadata": {},
   "source": [
    "Check Training Progress:"
   ]
  },
  {
   "cell_type": "code",
   "execution_count": null,
   "metadata": {},
   "outputs": [],
   "source": [
    "# Copyright (c) Microsoft Corporation.\n",
    "# Licensed under the MIT License.\n",
    "print(f\"Training progress for model: {ORCHESTRATION_MODEL_NAME}\")\n",
    "train_job_status = ORCHESTRATION_CLIENT.get_training_status(\n",
    "    train_job_url=train_job_url\n",
    ")\n",
    "print(train_job_status)\n",
    "print(f\"Training percent complete: {train_job_status['result']['trainingStatus']['percentComplete']}\")\n",
    "print(f\"Evaluation percent complete: {train_job_status['result']['evaluationStatus']['percentComplete']}\")\n",
    "print(f\"Model training: {train_job_status['status']}\")\n"
   ]
  },
  {
   "cell_type": "markdown",
   "metadata": {},
   "source": [
    "List Trained Models:"
   ]
  },
  {
   "cell_type": "code",
   "execution_count": null,
   "metadata": {},
   "outputs": [],
   "source": [
    "# Copyright (c) Microsoft Corporation.\n",
    "# Licensed under the MIT License.\n",
    "print(\"Orchestration models:\")\n",
    "models = ORCHESTRATION_CLIENT.list_models(\n",
    "    project_name=ORCHESTRATION_PROJECT_NAME\n",
    ")\n",
    "print(models)\n"
   ]
  },
  {
   "cell_type": "markdown",
   "metadata": {},
   "source": [
    "Deploy Model:"
   ]
  },
  {
   "cell_type": "code",
   "execution_count": null,
   "metadata": {},
   "outputs": [],
   "source": [
    "# Copyright (c) Microsoft Corporation.\n",
    "# Licensed under the MIT License.\n",
    "print(f\"Creating deployment: {ORCHESTRATION_DEPLOYMENT_NAME}\")\n",
    "deploy_result = ORCHESTRATION_CLIENT.deploy(\n",
    "    project_name=ORCHESTRATION_PROJECT_NAME,\n",
    "    model_name=ORCHESTRATION_MODEL_NAME,\n",
    "    deployment_name=ORCHESTRATION_DEPLOYMENT_NAME\n",
    ")\n",
    "print(f\"Deployment {'succeeded' if deploy_result else 'failed'}\")\n"
   ]
  },
  {
   "cell_type": "markdown",
   "metadata": {},
   "source": [
    "List Deployments:"
   ]
  },
  {
   "cell_type": "code",
   "execution_count": null,
   "metadata": {},
   "outputs": [],
   "source": [
    "# Copyright (c) Microsoft Corporation.\n",
    "# Licensed under the MIT License.\n",
    "print(\"CLU deployments:\")\n",
    "deployments = ORCHESTRATION_CLIENT.list_deployments(\n",
    "    project_name=ORCHESTRATION_PROJECT_NAME\n",
    ")\n",
    "print(deployments)\n"
   ]
  },
  {
   "cell_type": "markdown",
   "metadata": {},
   "source": [
    "Test Deployment:"
   ]
  },
  {
   "cell_type": "code",
   "execution_count": null,
   "metadata": {},
   "outputs": [],
   "source": [
    "# Copyright (c) Microsoft Corporation.\n",
    "# Licensed under the MIT License.\n",
    "from language_http_utils import run_language_api\n",
    "\n",
    "url = \"\".join([\n",
    "    LANGUAGE_ENDPOINT,\n",
    "    \"/language/:analyze-conversations\"\n",
    "])\n",
    "query_parameters = {\n",
    "    \"api-version\": \"2023-04-01\"\n",
    "}\n",
    "\n",
    "def create_input(\n",
    "    utterance: str,\n",
    "    language: str,\n",
    "    id: str\n",
    ") -> dict:\n",
    "    \"\"\"\n",
    "    Create JSON input for Orchestration runtime.\n",
    "    \"\"\"\n",
    "    return {\n",
    "        \"kind\": \"Conversation\",\n",
    "        \"analysisInput\": {\n",
    "            \"conversationItem\": {\n",
    "                \"id\": str(id),\n",
    "                \"participantId\": \"0\",\n",
    "                \"language\": language,\n",
    "                \"text\": utterance\n",
    "            }\n",
    "        },\n",
    "        \"parameters\": {\n",
    "            \"projectName\": ORCHESTRATION_PROJECT_NAME,\n",
    "            \"deploymentName\": ORCHESTRATION_DEPLOYMENT_NAME\n",
    "        }\n",
    "    }\n",
    "\n",
    "def call_runtime(\n",
    "    utterance: str,\n",
    "    language: str,\n",
    "    id: str\n",
    ") -> dict:\n",
    "    \"\"\"\n",
    "    Call Orchestration runtime.\n",
    "    \"\"\"\n",
    "    input_json = create_input(\n",
    "        utterance=utterance,\n",
    "        language=language,\n",
    "        id=id\n",
    "    )\n",
    "\n",
    "    return run_language_api(\n",
    "        url=url,\n",
    "        api_key=LANGUAGE_API_KEY,\n",
    "        json_obj=input_json,\n",
    "        query_parameters=query_parameters\n",
    "    )\n",
    "\n",
    "# Update query to test:\n",
    "query = \"What is the order status for order 12?\"\n",
    "\n",
    "clu_response = call_runtime(\n",
    "    utterance=query,\n",
    "    language=\"en\",\n",
    "    id=\"1\"\n",
    ")\n",
    "\n",
    "print(f\"Orchestration Runtime Response:\\n{clu_response}\")\n"
   ]
  },
  {
   "cell_type": "markdown",
   "metadata": {},
   "source": [
    "## Next steps:\n",
    "Update your `.env` file:\n",
    "```\n",
    "ORCHESTRATION_PROJECT_NAME=\"<orchestration-project-name>\"\n",
    "ORCHESTRATION_DEPLOYMENT_NAME=\"<orchestration-deployment-name>\"\n",
    "```\n",
    "\n",
    "You may experiment updating your Orchestration project in [Language Studio](https://language.cognitive.azure.com/) as well."
   ]
  }
 ],
 "metadata": {
  "kernelspec": {
   "display_name": "accel-eval",
   "language": "python",
   "name": "python3"
  },
  "language_info": {
   "codemirror_mode": {
    "name": "ipython",
    "version": 3
   },
   "file_extension": ".py",
   "mimetype": "text/x-python",
   "name": "python",
   "nbconvert_exporter": "python",
   "pygments_lexer": "ipython3",
   "version": "3.9.20"
  }
 },
 "nbformat": 4,
 "nbformat_minor": 2
}
