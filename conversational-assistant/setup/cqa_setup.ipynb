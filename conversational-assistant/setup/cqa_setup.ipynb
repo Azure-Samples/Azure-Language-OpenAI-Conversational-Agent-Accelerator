{
 "cells": [
  {
   "cell_type": "markdown",
   "metadata": {},
   "source": [
    "# CQA Project Setup\n",
    "\n",
    "This notebook outlines the process of setting up CQA dependencies for the Conversational Assistant demo.\n",
    "\n",
    "It goes through the following steps:\n",
    "- Creating a CQA project and importing example data.\n",
    "- Deploying a knowledge base for production use.\n",
    "\n",
    "**Note**: these steps can also be achieved using Azure AI [Language Studio](https://language.cognitive.azure.com/).\n",
    "\n",
    "The example data is in the context of a fictional outdoor company: Contoso Outdoors. The data includes questions related to rental and refund policies, annual sales, etc.\n",
    "\n",
    "To use CQA in this project, the following lines in your `.env` file should be updated by the end of this notebook:\n",
    "```\n",
    "CQA_PROJECT_NAME=\"<cqa-project-name>\"\n",
    "CQA_DEPLOYMENT_NAME=\"<cqa-deployment-name>\"\n",
    "```\n",
    "\n",
    "### Prerequisites:\n",
    "CQA requires an [Azure AI Language resource](https://learn.microsoft.com/en-us/azure/ai-services/language-service/). [Create a Language Resource](https://portal.azure.com/#create/Microsoft.CognitiveServicesTextAnalytics) first, if necessary. Ensure that your Language resource has Custom Question Answering enabled. This can be verified on the resource's page in Azure portal: `Resource Management/Features`.\n",
    "\n",
    "From your Language resource, obtain its `endpoint` and `api-key`.\n",
    "\n",
    "Update your `.env` file:\n",
    "```\n",
    "LANGUAGE_ENDPOINT=\"<language-endpoint>\"\n",
    "LANGUAGE_API_KEY=\"<language-api-key>\"\n",
    "```"
   ]
  },
  {
   "cell_type": "code",
   "execution_count": null,
   "metadata": {},
   "outputs": [],
   "source": [
    "# Copyright (c) Microsoft Corporation.\n",
    "# Licensed under the MIT License.\n",
    "import sys\n",
    "sys.path.append(\"..\")\n",
    "import os\n",
    "from dotenv import load_dotenv\n",
    "from cqa_client import CqaClient\n",
    "\n",
    "load_dotenv()\n",
    "\n",
    "LANGUAGE_ENDPOINT = os.environ.get(\"LANGUAGE_ENDPOINT\")\n",
    "LANGUAGE_API_KEY = os.environ.get(\"LANGUAGE_API_KEY\")\n",
    "\n",
    "# Update with desired names:\n",
    "CQA_PROJECT_NAME = \"contoso-outdoors-cqa\"\n",
    "CQA_DEPLOYMENT_NAME = \"production\"\n",
    "\n",
    "CQA_CLIENT = CqaClient(\n",
    "    endpoint=LANGUAGE_ENDPOINT,\n",
    "    api_key=LANGUAGE_API_KEY\n",
    ")\n",
    "\n",
    "print(f\"Language endpoint: {LANGUAGE_ENDPOINT}\")\n"
   ]
  },
  {
   "cell_type": "markdown",
   "metadata": {},
   "source": [
    "Create Project:"
   ]
  },
  {
   "cell_type": "code",
   "execution_count": null,
   "metadata": {},
   "outputs": [],
   "source": [
    "# Copyright (c) Microsoft Corporation.\n",
    "# Licensed under the MIT License.\n",
    "CQA_CLIENT.create_project(\n",
    "    project_name=CQA_PROJECT_NAME\n",
    ")\n",
    "print(f\"Project created: {CQA_PROJECT_NAME}\")\n"
   ]
  },
  {
   "cell_type": "markdown",
   "metadata": {},
   "source": [
    "Import Project Data:"
   ]
  },
  {
   "cell_type": "code",
   "execution_count": null,
   "metadata": {},
   "outputs": [],
   "source": [
    "# Copyright (c) Microsoft Corporation.\n",
    "# Licensed under the MIT License.\n",
    "import json\n",
    "\n",
    "import_file = \"data/cqa/import.json\"\n",
    "with open(import_file, 'r') as fp:\n",
    "    import_json = json.load(fp)\n",
    "\n",
    "print(f\"Project name: {CQA_PROJECT_NAME}\")\n",
    "\n",
    "import_result = CQA_CLIENT.import_project(\n",
    "    import_json=import_json,\n",
    "    project_name=CQA_PROJECT_NAME\n",
    ")\n",
    "\n",
    "print(f\"Import project {'succeeded' if import_result else 'failed'}\")\n"
   ]
  },
  {
   "cell_type": "markdown",
   "metadata": {},
   "source": [
    "List Projects:"
   ]
  },
  {
   "cell_type": "code",
   "execution_count": null,
   "metadata": {},
   "outputs": [],
   "source": [
    "# Copyright (c) Microsoft Corporation.\n",
    "# Licensed under the MIT License.\n",
    "print(\"CQA projects:\")\n",
    "projects = CQA_CLIENT.list_projects()\n",
    "print(projects)\n"
   ]
  },
  {
   "cell_type": "markdown",
   "metadata": {},
   "source": [
    "Deploy Knowledgebase:"
   ]
  },
  {
   "cell_type": "code",
   "execution_count": null,
   "metadata": {},
   "outputs": [],
   "source": [
    "# Copyright (c) Microsoft Corporation.\n",
    "# Licensed under the MIT License.\n",
    "print(f\"Creating deployment: {CQA_DEPLOYMENT_NAME}\")\n",
    "deploy_result = CQA_CLIENT.deploy(\n",
    "    project_name=CQA_PROJECT_NAME,\n",
    "    deployment_name=CQA_DEPLOYMENT_NAME\n",
    ")\n",
    "print(f\"Deployment {'succeeded' if deploy_result else 'failed'}\")\n"
   ]
  },
  {
   "cell_type": "markdown",
   "metadata": {},
   "source": [
    "List Deployments:"
   ]
  },
  {
   "cell_type": "code",
   "execution_count": null,
   "metadata": {},
   "outputs": [],
   "source": [
    "# Copyright (c) Microsoft Corporation.\n",
    "# Licensed under the MIT License.\n",
    "print(\"CQA deployments:\")\n",
    "deployments = CQA_CLIENT.list_deployments(\n",
    "    project_name=CQA_PROJECT_NAME\n",
    ")\n",
    "print(deployments)\n"
   ]
  },
  {
   "cell_type": "markdown",
   "metadata": {},
   "source": [
    "Test Deployment:"
   ]
  },
  {
   "cell_type": "code",
   "execution_count": null,
   "metadata": {},
   "outputs": [],
   "source": [
    "# Copyright (c) Microsoft Corporation.\n",
    "# Licensed under the MIT License.\n",
    "from language_http_utils import run_language_api\n",
    "\n",
    "url = \"\".join([\n",
    "    LANGUAGE_ENDPOINT,\n",
    "    \"/language/:query-knowledgebases\"\n",
    "])\n",
    "query_parameters = {\n",
    "    \"api-version\": \"2023-04-01\",\n",
    "    \"projectName\": CQA_PROJECT_NAME,\n",
    "    \"deploymenName\": CQA_DEPLOYMENT_NAME\n",
    "}\n",
    "\n",
    "def create_input(\n",
    "    question: str\n",
    ") -> dict:\n",
    "    \"\"\"\n",
    "    Create JSON input for CQA runtime.\n",
    "    \"\"\"\n",
    "    return {\n",
    "        \"question\": question,\n",
    "        \"top\": 1\n",
    "    }\n",
    "\n",
    "def call_runtime(\n",
    "    question: str\n",
    ") -> dict:\n",
    "    \"\"\"\n",
    "    Call CQA runtime.\n",
    "    \"\"\"\n",
    "    input_json = create_input(\n",
    "        question=question\n",
    "    )\n",
    "\n",
    "    return run_language_api(\n",
    "        url=url,\n",
    "        api_key=LANGUAGE_API_KEY,\n",
    "        json_obj=input_json,\n",
    "        query_parameters=query_parameters\n",
    "    )\n",
    "\n",
    "# Update question to test:\n",
    "question = \"What is your rental policy?\"\n",
    "\n",
    "cqa_response = call_runtime(\n",
    "    question=question\n",
    ")\n",
    "\n",
    "print(f\"CQA Runtime Response:\\n{cqa_response}\")\n"
   ]
  },
  {
   "cell_type": "markdown",
   "metadata": {},
   "source": [
    "## Next steps:\n",
    "Update your `.env` file:\n",
    "```\n",
    "CQA_PROJECT_NAME=\"<cqa-project-name>\"\n",
    "CQA_DEPLOYMENT_NAME=\"<cqa-deployment-name>\"\n",
    "```\n",
    "\n",
    "You may experiment updating your CQA project in [Language Studio](https://language.cognitive.azure.com/) as well."
   ]
  }
 ],
 "metadata": {
  "kernelspec": {
   "display_name": "accel-eval",
   "language": "python",
   "name": "python3"
  },
  "language_info": {
   "codemirror_mode": {
    "name": "ipython",
    "version": 3
   },
   "file_extension": ".py",
   "mimetype": "text/x-python",
   "name": "python",
   "nbconvert_exporter": "python",
   "pygments_lexer": "ipython3",
   "version": "3.9.20"
  }
 },
 "nbformat": 4,
 "nbformat_minor": 2
}
